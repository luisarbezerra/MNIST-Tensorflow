{
 "cells": [
  {
   "cell_type": "markdown",
   "metadata": {},
   "source": [
    "# Trabalho Prático 01 - Machine Learning\n",
    "\n",
    "# Introdução\n",
    "\n",
    "Neste trabalho você irá implementar uma rede neuronal com três camadas:\n",
    "\n",
    "1. Camada de entrada: cada unidade representa uma dimensão do dado de entrada.\n",
    "\n",
    "2. Camada oculta: cada unidade representa uma transformação a partir das unidades de entrada.\n",
    "\n",
    "3. Camada de saída: cada unidade representa a chance da saída correspondente ser a correta.\n",
    "\n",
    "Você irá utilizar a função Sigmóide para obter não-linearidade. Além disso, a função de perda a ser minimizada é a seguinte:\n",
    "\n",
    "![title](t2.jpg)\n",
    "\n",
    "onde m é a quantidade de entradas no treino, K é o número de saídas possíveis, representa a saída correta de cada classe k em cada entrada (i), e similarmente representa a saída dada pela rede neuronal.\n",
    "\n",
    "O dado a ser utilizado está anexado. Trata-se de 5000 entradas, onde cada entrada refere-se a um dígito escrito manualmente (i.e., MNIST dataset). Dessa forma, m=5000 e K=10. Cada entrada é dada por uma matriz de dimensões 28 por 28, ou seja, um vetor de 784 dimensões. A primeira coluna do arquivo sempre é o rótulo do dígito correto.\n",
    "\n",
    "A rede neuronal a ser implementada deverá ter 784 unidades de entrada e 10 unidades de saída. Em seus experimentos, você deverá variar o número de unidades na camada oculta (25, 50, 100).\n",
    "\n",
    "Além disso, você deverá comparar os seguintes algoritmos de cálculo de gradiente:\n",
    "\n",
    "1. Gradient Descent: o gradiente é calculado após cada época (após as 5000 entradas serem processadas).\n",
    "\n",
    "2. Stochastic Gradient Descent: o gradiente é calculado após cada entrada.\n",
    "\n",
    "3. Mini-Batch: o gradiente é calculado após um certo número de entradas (considere 10 e 50).\n",
    "\n",
    "Por fim, você também deverá variar a taxa de aprendizado: 0.5, 1, 10.\n",
    "\n",
    "O documento a ser entregue deverá apresentar o resultado de seus experimentos. Ou seja, deverá apresentar discussão da variação do número de unidades na camada oculta para cada um dos três algoritmos de cálculo de gradiente. Você deverá apresentar gráficos mostrando a convergência do erro empírico para cada situação (unidades na camada oculta, algoritmo de cálculo do gradiente, taxa de aprendizado). Você deverá deixar claras todas as hipóteses que julgar serem pertinentes."
   ]
  },
  {
   "cell_type": "markdown",
   "metadata": {},
   "source": [
    "# Resolução\n",
    "Para a resolução de meu trabalho, foi utilizado:\n",
    "- **Tensorflow**: framework opensource de Machine Learning, com mais informações disponíveis em <https://www.tensorflow.org/>.\n",
    "- **NumPy**: pacote básico da linguagem Python que permite trabalhar com arranjos, vetores e matrizes de N dimensões, mais informações em <http://www.numpy.org/>\n",
    "- **Pandas**:  biblioteca de alto desempenho que fornece suporte para estruturas de dados e ferramentas de análise de dados, mais informações em <https://pandas.pydata.org/>\n",
    "- **MatPlotLib**: biblioteca com recursos para a geração de gráficos 2D a partir de arrays. Gráficos comuns podem ser criados com alta qualidade a partir de comandos simples, inspirados nos comandos gráficos do MATLAB. Mais informações em: <https://matplotlib.org/>\n",
    "\n",
    "## Importando as bibliotecas fundamentais\n",
    "\n",
    "Inicialmente, importo algumas das bibliotecas descritas acima que irão ser utilizadas na primeira parte deste Notebook."
   ]
  },
  {
   "cell_type": "code",
   "execution_count": 2,
   "metadata": {},
   "outputs": [
    {
     "name": "stderr",
     "output_type": "stream",
     "text": [
      "/home/luisa/anaconda3/lib/python3.6/site-packages/h5py/__init__.py:36: FutureWarning: Conversion of the second argument of issubdtype from `float` to `np.floating` is deprecated. In future, it will be treated as `np.float64 == np.dtype(float).type`.\n",
      "  from ._conv import register_converters as _register_converters\n"
     ]
    }
   ],
   "source": [
    "import tensorflow as tf\n",
    "import numpy as np\n",
    "from numpy import genfromtxt"
   ]
  },
  {
   "cell_type": "markdown",
   "metadata": {},
   "source": [
    "## Leitura de dados\n",
    "Nesta parte, os dados serão lidos. O arquivo **data_tp1'** que foi nos dado trata-se de 5000 entradas, onde cada entrada refere-se a um dígito escrito manualmente (i.e., MNIST dataset). Dessa forma, m=5000 e K=10. Cada entrada é dada por uma matriz de dimensões 28 por 28, ou seja, um vetor de 784 dimensões. A primeira coluna do arquivo sempre é o rótulo do dígito correto. Este arquivo encontra-se na pasta-raíz deste Notebook. Toda a leitura é feita utilizando a biblioteca NumPy. "
   ]
  },
  {
   "cell_type": "code",
   "execution_count": 3,
   "metadata": {},
   "outputs": [],
   "source": [
    "int_classes   = []\n",
    "vetor_numeros = []\n",
    "vetor_classes = []\n",
    "\n",
    "### LEITURA DE DADOS ###\n",
    "arquivo = genfromtxt('./data_tp1', delimiter=',', autostrip=True, dtype=int)\n",
    "\n",
    "for x in range(1, 5000):\n",
    "    linha  = np.array(arquivo[x-1:x])       \n",
    "    #np array 'linha' contendo a linha (785 itens)\n",
    "    classe = np.resize(linha, (1,1))        \n",
    "    #aqui, pegamos o primeiro valor de 'linha'\n",
    "    \n",
    "    linha_escalar = linha.ravel()           \n",
    "    #escalar da linha com os 785 itens\n",
    "    numero = linha_escalar[1:785:1]         \n",
    "    #escalar do numero, sem o primeiro item (784 itens)\n",
    "\n",
    "    int_classes.append(int(classe))         \n",
    "    #adiciono a classe no vetor de classes\n",
    "    vetor_numeros.append(np.array(numero))  \n",
    "    #adiciono o numero no vetor de numeros"
   ]
  },
  {
   "cell_type": "markdown",
   "metadata": {},
   "source": [
    "## Função 'experimento\n",
    "A função **\"experimento\"**, demonstrada abaixo, tem, como entrada, alguns parâmetros fundamentais para a criação da rede e seu treino - decidi inserir os parâmetros que irão ser fundamentais para a análise final mais adiante: taxa de aprendizado, unidades de camada oculta e batch size.\n",
    "\n",
    "Dentro da função experimento, defino a rede, criando X e Y dela - respectivamente, X sendo a camada de entrada de dados, e Y sendo as classes de saída, representando 10 saídas possíveis (0 a 9). Os pesos e viés para a camada oculta e de saída também são definidos. Temos, também, a transformação de cada inteiro dentro do vetor int_classes em um vetor de 10 posicoes representando os numeros de 0 a 9, com 0 em todas casas, menos na que representa o numero daquela classe, que tera o numero 1. Estes vetores são guardados em \"vetor_classes\".\n",
    "\n",
    "### Modelo de Rede\n",
    "O modelo de rede especificado segue as seguintes camadas:\n",
    "1. **Primeira camada**: camada de entrada, tendo a função de ativação \"Sigmoide\", e os dados de entrada X, representados por 784 neurônios.\n",
    "2. **Segunda camada**: camada oculta, que utiliza o número de neurônios já predefinido na entrada da função \"experimento\" (no caso, unidades_camada_oculta).\n",
    "3. **Terceira camada**: camada de saída, com 10 neurônios, cada qual representando uma classe, e é utilizada a função softmax. \n",
    "\n",
    "*A **função de ativação sigmoid** é comumente utilizada por redes neurais com propagação positiva (Feedforward) que precisam ter como saída apenas números positivos, em redes neurais multicamadas e em outras redes com sinais contínuos.*\n",
    "\n",
    "*A **função softmax** é usada em redes neurais de classificação. Ela força a saída de uma rede neural a representar a probabilidade dos dados serem de uma das classes definidas. Sem ela as saídas dos neurônios são simplesmente valores numéricos onde o maior indica a classe vencedora.*\n",
    "\n",
    "Outros pontos a serem considerados são:\n",
    "\n",
    "- A **Função de Perda** utilizada é a função *tf.nn.softmax_cross_entropy_with_logits_v2*, que computa a \"softmax cross entropy\" entre logits e labels(no caso, Y). A Backpropagation acontecerá nos logits e nos labels.\n",
    "\n",
    "- Para a **Otimização do Modelo**, é utilizada a função *tf.train.GradientDescentOptimizer*, otimizador que implementa o algorítmo do Gradiente Descendente, que interage com a o batch size, variando de acordo com o seu número: no caso de batch_size=1, temos o Gradiente Descendente Estocástico; no de batch_size=10 ou 50, temos o Mini-batch; no caso de bath_size=5000, temos o Gradiente Descendente.\n",
    "\n",
    "A função **retorna** uma lista de acurárias, que representam as acurácias em todas as épocas, o que sugere, para meios de comparação, a acurácia final e a acurácia em todas as iterações."
   ]
  },
  {
   "cell_type": "code",
   "execution_count": 4,
   "metadata": {},
   "outputs": [],
   "source": [
    "sess = tf.InteractiveSession()\n",
    "\n",
    "def experimento(taxa_aprendizado=0.5, unidades_camada_oculta=25, numero_epocas=200, batch_size=500): \n",
    "\n",
    "    X = tf.placeholder(tf.float32, shape=[None, 784], name='DadoEntrada') \n",
    "    #shape da mnist 28*28=784\n",
    "    Y = tf.placeholder(tf.float32, shape=[None, 10],  name='DadoSaida')   \n",
    "    #10 classes de saida, 0 a 9 \n",
    "\n",
    "    #Peso(W) e vies(b) para a camada oculta\n",
    "    W1 = tf.Variable(tf.random_normal([784, unidades_camada_oculta]), dtype=tf.float32, name='Weights')\n",
    "    b1 = tf.Variable(tf.random_normal([unidades_camada_oculta]),      dtype=tf.float32, name='biases')\n",
    "\n",
    "    #Peso(W) e vies(b) para a camada de saida\n",
    "    W2 = tf.Variable(tf.random_normal([unidades_camada_oculta, 10]), dtype=tf.float32, name='Weights')\n",
    "    b2 = tf.Variable(tf.random_normal([10]),                         dtype=tf.float32, name='biases')\n",
    "\n",
    "    ### CONVERTENDO CLASSES EM VETORES ONE-HOT ###\n",
    "    #Para cada inteiro do vetor 'int_classes', crio um array de 10 posicoes representando os numeros de 0 a 9, \n",
    "    #com 0 em todas casas, menos na que representa o numero daquela classe, que tera o numero 1\n",
    "    vetor_classes = np.eye(10, dtype=int)[int_classes] \n",
    "\n",
    "    ### MODELO DE REDE ####\n",
    "    def mnist(X):\n",
    "        h1           = tf.nn.sigmoid(tf.matmul(X, W1) + b1)\n",
    "        camada_saida = tf.matmul(h1, W2) + b2\n",
    "        return camada_saida\n",
    "\n",
    "    #Construindo modelo de rede\n",
    "    logits = mnist(X)\n",
    "\n",
    "    funcao_perda = tf.reduce_mean(tf.nn.softmax_cross_entropy_with_logits_v2(labels=Y, logits=logits))\n",
    "    otimizador_gradiente_descendente = tf.train.GradientDescentOptimizer(taxa_aprendizado).minimize(funcao_perda)\n",
    "\n",
    "    ### INICIALIZAR VARIAVEIS ###\n",
    "    init = tf.global_variables_initializer()\n",
    "    lista_acuracias = []\n",
    "    \n",
    "    with tf.Session() as sess:\n",
    "        sess.run(init)                          \n",
    "        #chama o inicializador das variaveis\n",
    "        for epoca in range(numero_epocas):\n",
    "            inicio      = 0\n",
    "            fim         = 0\n",
    "            total_batch = int(5000/batch_size)\n",
    "   \n",
    "            while inicio < len(vetor_numeros):\n",
    "                fim   += batch_size\n",
    "                batch  = []\n",
    "\n",
    "                numero = np.asarray(vetor_numeros[inicio:fim])\n",
    "                batch.append(numero)\n",
    "\n",
    "                classe = np.asarray(vetor_classes[inicio:fim])\n",
    "                batch.append(classe)\n",
    "\n",
    "                otimizador_gradiente_descendente.run(feed_dict={X: batch[0], Y:batch[1]})\n",
    "                inicio += batch_size\n",
    "\n",
    "            ### TESTE DO MODELO ###\n",
    "            predicao_modelo = tf.nn.softmax(logits)\n",
    "            predicao_correta = tf.equal(tf.argmax(predicao_modelo, 1), tf.argmax(Y, 1))\n",
    "\n",
    "            ### CALCULO DA ACURACIA ###\n",
    "            perda = funcao_perda.eval(feed_dict={X: vetor_numeros, Y: vetor_classes})\n",
    "            acuracia = tf.reduce_mean(tf.cast(predicao_correta, tf.float32))\n",
    "            lista_acuracias.append(100*acuracia.eval(feed_dict={X: vetor_numeros, Y: vetor_classes}))\n",
    "        return lista_acuracias"
   ]
  },
  {
   "cell_type": "markdown",
   "metadata": {},
   "source": [
    "## Execução do Experimento\n",
    "Para o experimento, importo a biblioteca MatPlotLib, já explicada no início deste Notebook, a fim de gerar dados visíveis para fins de comparação. Nesta parte, crio uma função para a geração de gráficos, chamada **geracao_grafico**. Seu uso será clarificado na próxima etapa."
   ]
  },
  {
   "cell_type": "code",
   "execution_count": 5,
   "metadata": {},
   "outputs": [],
   "source": [
    "import matplotlib.pyplot as plt\n",
    "import matplotlib as mpl\n",
    "\n",
    "mpl.rcParams['figure.figsize'] = (16,4)\n",
    "\n",
    "def geracao_grafico(resultado):\n",
    "     # summarize history for accuracy\n",
    "    for key in resultado.keys():\n",
    "        plt.plot(resultado[key])\n",
    "    plt.title('model accuracy')\n",
    "    plt.ylabel('accuracy')\n",
    "    plt.xlabel('epoch')\n",
    "    plt.legend(resultado.keys(), loc='lower right')\n",
    "    plt.show()"
   ]
  },
  {
   "cell_type": "markdown",
   "metadata": {},
   "source": [
    "### Variação da Taxa de Aprendizado\n",
    "Para a análise da variação de taxa de aprendizado, crio os possíveis valores para este parâmetro, os quais foram especificados no item \"Introdução\". Temos, para as entradas 0.5 e 1.0, valores aproximadamente iguais de acurácia final (e altos, entre 77% e 80%), convergindo. Entretanto, quando a entrada é de 10, a acurácia cai drasticamente, estando por volta de 18%. Concluimos, assim, que quando a taxa de aprendizado é de 10, o modelo não consegue aprender, tendo um caso claro de underfitting. "
   ]
  },
  {
   "cell_type": "code",
   "execution_count": 7,
   "metadata": {},
   "outputs": [
    {
     "name": "stdout",
     "output_type": "stream",
     "text": [
      "VARIACAO DA TAXA DE APRENDIZADO\n"
     ]
    },
    {
     "ename": "KeyboardInterrupt",
     "evalue": "",
     "output_type": "error",
     "traceback": [
      "\u001b[0;31m---------------------------------------------------------------------------\u001b[0m",
      "\u001b[0;31mKeyboardInterrupt\u001b[0m                         Traceback (most recent call last)",
      "\u001b[0;32m<ipython-input-7-d16a345a8273>\u001b[0m in \u001b[0;36m<module>\u001b[0;34m()\u001b[0m\n\u001b[1;32m      3\u001b[0m \u001b[0mprint\u001b[0m\u001b[0;34m(\u001b[0m\u001b[0;34m\"VARIACAO DA TAXA DE APRENDIZADO\"\u001b[0m\u001b[0;34m)\u001b[0m\u001b[0;34m\u001b[0m\u001b[0m\n\u001b[1;32m      4\u001b[0m \u001b[0;32mfor\u001b[0m \u001b[0mtaxa\u001b[0m \u001b[0;32min\u001b[0m \u001b[0mtaxa_aprendizado\u001b[0m\u001b[0;34m:\u001b[0m\u001b[0;34m\u001b[0m\u001b[0m\n\u001b[0;32m----> 5\u001b[0;31m     \u001b[0mresult\u001b[0m \u001b[0;34m=\u001b[0m \u001b[0mexperimento\u001b[0m\u001b[0;34m(\u001b[0m\u001b[0mtaxa_aprendizado\u001b[0m\u001b[0;34m=\u001b[0m\u001b[0mtaxa\u001b[0m\u001b[0;34m)\u001b[0m\u001b[0;34m\u001b[0m\u001b[0m\n\u001b[0m\u001b[1;32m      6\u001b[0m     \u001b[0mprint\u001b[0m\u001b[0;34m(\u001b[0m\u001b[0;34m\"Taxa de aprendizado: \"\u001b[0m \u001b[0;34m+\u001b[0m \u001b[0mstr\u001b[0m\u001b[0;34m(\u001b[0m\u001b[0mtaxa\u001b[0m\u001b[0;34m)\u001b[0m\u001b[0;34m)\u001b[0m\u001b[0;34m\u001b[0m\u001b[0m\n\u001b[1;32m      7\u001b[0m     \u001b[0mprint\u001b[0m\u001b[0;34m(\u001b[0m\u001b[0;34m\"Acuracia final: \"\u001b[0m\u001b[0;34m+\u001b[0m\u001b[0mstr\u001b[0m\u001b[0;34m(\u001b[0m\u001b[0mresult\u001b[0m\u001b[0;34m[\u001b[0m\u001b[0;34m-\u001b[0m\u001b[0;36m1\u001b[0m\u001b[0;34m]\u001b[0m\u001b[0;34m)\u001b[0m\u001b[0;34m)\u001b[0m\u001b[0;34m\u001b[0m\u001b[0m\n",
      "\u001b[0;32m<ipython-input-4-ea5f2f6fe6aa>\u001b[0m in \u001b[0;36mexperimento\u001b[0;34m(taxa_aprendizado, unidades_camada_oculta, numero_epocas, batch_size)\u001b[0m\n\u001b[1;32m     63\u001b[0m \u001b[0;34m\u001b[0m\u001b[0m\n\u001b[1;32m     64\u001b[0m             \u001b[0;31m### CALCULO DA ACURACIA ###\u001b[0m\u001b[0;34m\u001b[0m\u001b[0;34m\u001b[0m\u001b[0m\n\u001b[0;32m---> 65\u001b[0;31m             \u001b[0mperda\u001b[0m \u001b[0;34m=\u001b[0m \u001b[0mfuncao_perda\u001b[0m\u001b[0;34m.\u001b[0m\u001b[0meval\u001b[0m\u001b[0;34m(\u001b[0m\u001b[0mfeed_dict\u001b[0m\u001b[0;34m=\u001b[0m\u001b[0;34m{\u001b[0m\u001b[0mX\u001b[0m\u001b[0;34m:\u001b[0m \u001b[0mvetor_numeros\u001b[0m\u001b[0;34m,\u001b[0m \u001b[0mY\u001b[0m\u001b[0;34m:\u001b[0m \u001b[0mvetor_classes\u001b[0m\u001b[0;34m}\u001b[0m\u001b[0;34m)\u001b[0m\u001b[0;34m\u001b[0m\u001b[0m\n\u001b[0m\u001b[1;32m     66\u001b[0m             \u001b[0macuracia\u001b[0m \u001b[0;34m=\u001b[0m \u001b[0mtf\u001b[0m\u001b[0;34m.\u001b[0m\u001b[0mreduce_mean\u001b[0m\u001b[0;34m(\u001b[0m\u001b[0mtf\u001b[0m\u001b[0;34m.\u001b[0m\u001b[0mcast\u001b[0m\u001b[0;34m(\u001b[0m\u001b[0mpredicao_correta\u001b[0m\u001b[0;34m,\u001b[0m \u001b[0mtf\u001b[0m\u001b[0;34m.\u001b[0m\u001b[0mfloat32\u001b[0m\u001b[0;34m)\u001b[0m\u001b[0;34m)\u001b[0m\u001b[0;34m\u001b[0m\u001b[0m\n\u001b[1;32m     67\u001b[0m             \u001b[0mlista_acuracias\u001b[0m\u001b[0;34m.\u001b[0m\u001b[0mappend\u001b[0m\u001b[0;34m(\u001b[0m\u001b[0;36m100\u001b[0m\u001b[0;34m*\u001b[0m\u001b[0macuracia\u001b[0m\u001b[0;34m.\u001b[0m\u001b[0meval\u001b[0m\u001b[0;34m(\u001b[0m\u001b[0mfeed_dict\u001b[0m\u001b[0;34m=\u001b[0m\u001b[0;34m{\u001b[0m\u001b[0mX\u001b[0m\u001b[0;34m:\u001b[0m \u001b[0mvetor_numeros\u001b[0m\u001b[0;34m,\u001b[0m \u001b[0mY\u001b[0m\u001b[0;34m:\u001b[0m \u001b[0mvetor_classes\u001b[0m\u001b[0;34m}\u001b[0m\u001b[0;34m)\u001b[0m\u001b[0;34m)\u001b[0m\u001b[0;34m\u001b[0m\u001b[0m\n",
      "\u001b[0;32m~/anaconda3/lib/python3.6/site-packages/tensorflow/python/framework/ops.py\u001b[0m in \u001b[0;36meval\u001b[0;34m(self, feed_dict, session)\u001b[0m\n\u001b[1;32m    708\u001b[0m \u001b[0;34m\u001b[0m\u001b[0m\n\u001b[1;32m    709\u001b[0m     \"\"\"\n\u001b[0;32m--> 710\u001b[0;31m     \u001b[0;32mreturn\u001b[0m \u001b[0m_eval_using_default_session\u001b[0m\u001b[0;34m(\u001b[0m\u001b[0mself\u001b[0m\u001b[0;34m,\u001b[0m \u001b[0mfeed_dict\u001b[0m\u001b[0;34m,\u001b[0m \u001b[0mself\u001b[0m\u001b[0;34m.\u001b[0m\u001b[0mgraph\u001b[0m\u001b[0;34m,\u001b[0m \u001b[0msession\u001b[0m\u001b[0;34m)\u001b[0m\u001b[0;34m\u001b[0m\u001b[0m\n\u001b[0m\u001b[1;32m    711\u001b[0m \u001b[0;34m\u001b[0m\u001b[0m\n\u001b[1;32m    712\u001b[0m \u001b[0;34m\u001b[0m\u001b[0m\n",
      "\u001b[0;32m~/anaconda3/lib/python3.6/site-packages/tensorflow/python/framework/ops.py\u001b[0m in \u001b[0;36m_eval_using_default_session\u001b[0;34m(tensors, feed_dict, graph, session)\u001b[0m\n\u001b[1;32m   5178\u001b[0m                        \u001b[0;34m\"the tensor's graph is different from the session's \"\u001b[0m\u001b[0;34m\u001b[0m\u001b[0m\n\u001b[1;32m   5179\u001b[0m                        \"graph.\")\n\u001b[0;32m-> 5180\u001b[0;31m   \u001b[0;32mreturn\u001b[0m \u001b[0msession\u001b[0m\u001b[0;34m.\u001b[0m\u001b[0mrun\u001b[0m\u001b[0;34m(\u001b[0m\u001b[0mtensors\u001b[0m\u001b[0;34m,\u001b[0m \u001b[0mfeed_dict\u001b[0m\u001b[0;34m)\u001b[0m\u001b[0;34m\u001b[0m\u001b[0m\n\u001b[0m\u001b[1;32m   5181\u001b[0m \u001b[0;34m\u001b[0m\u001b[0m\n\u001b[1;32m   5182\u001b[0m \u001b[0;34m\u001b[0m\u001b[0m\n",
      "\u001b[0;32m~/anaconda3/lib/python3.6/site-packages/tensorflow/python/client/session.py\u001b[0m in \u001b[0;36mrun\u001b[0;34m(self, fetches, feed_dict, options, run_metadata)\u001b[0m\n\u001b[1;32m    898\u001b[0m     \u001b[0;32mtry\u001b[0m\u001b[0;34m:\u001b[0m\u001b[0;34m\u001b[0m\u001b[0m\n\u001b[1;32m    899\u001b[0m       result = self._run(None, fetches, feed_dict, options_ptr,\n\u001b[0;32m--> 900\u001b[0;31m                          run_metadata_ptr)\n\u001b[0m\u001b[1;32m    901\u001b[0m       \u001b[0;32mif\u001b[0m \u001b[0mrun_metadata\u001b[0m\u001b[0;34m:\u001b[0m\u001b[0;34m\u001b[0m\u001b[0m\n\u001b[1;32m    902\u001b[0m         \u001b[0mproto_data\u001b[0m \u001b[0;34m=\u001b[0m \u001b[0mtf_session\u001b[0m\u001b[0;34m.\u001b[0m\u001b[0mTF_GetBuffer\u001b[0m\u001b[0;34m(\u001b[0m\u001b[0mrun_metadata_ptr\u001b[0m\u001b[0;34m)\u001b[0m\u001b[0;34m\u001b[0m\u001b[0m\n",
      "\u001b[0;32m~/anaconda3/lib/python3.6/site-packages/tensorflow/python/client/session.py\u001b[0m in \u001b[0;36m_run\u001b[0;34m(self, handle, fetches, feed_dict, options, run_metadata)\u001b[0m\n\u001b[1;32m   1133\u001b[0m     \u001b[0;32mif\u001b[0m \u001b[0mfinal_fetches\u001b[0m \u001b[0;32mor\u001b[0m \u001b[0mfinal_targets\u001b[0m \u001b[0;32mor\u001b[0m \u001b[0;34m(\u001b[0m\u001b[0mhandle\u001b[0m \u001b[0;32mand\u001b[0m \u001b[0mfeed_dict_tensor\u001b[0m\u001b[0;34m)\u001b[0m\u001b[0;34m:\u001b[0m\u001b[0;34m\u001b[0m\u001b[0m\n\u001b[1;32m   1134\u001b[0m       results = self._do_run(handle, final_targets, final_fetches,\n\u001b[0;32m-> 1135\u001b[0;31m                              feed_dict_tensor, options, run_metadata)\n\u001b[0m\u001b[1;32m   1136\u001b[0m     \u001b[0;32melse\u001b[0m\u001b[0;34m:\u001b[0m\u001b[0;34m\u001b[0m\u001b[0m\n\u001b[1;32m   1137\u001b[0m       \u001b[0mresults\u001b[0m \u001b[0;34m=\u001b[0m \u001b[0;34m[\u001b[0m\u001b[0;34m]\u001b[0m\u001b[0;34m\u001b[0m\u001b[0m\n",
      "\u001b[0;32m~/anaconda3/lib/python3.6/site-packages/tensorflow/python/client/session.py\u001b[0m in \u001b[0;36m_do_run\u001b[0;34m(self, handle, target_list, fetch_list, feed_dict, options, run_metadata)\u001b[0m\n\u001b[1;32m   1314\u001b[0m     \u001b[0;32mif\u001b[0m \u001b[0mhandle\u001b[0m \u001b[0;32mis\u001b[0m \u001b[0;32mNone\u001b[0m\u001b[0;34m:\u001b[0m\u001b[0;34m\u001b[0m\u001b[0m\n\u001b[1;32m   1315\u001b[0m       return self._do_call(_run_fn, feeds, fetches, targets, options,\n\u001b[0;32m-> 1316\u001b[0;31m                            run_metadata)\n\u001b[0m\u001b[1;32m   1317\u001b[0m     \u001b[0;32melse\u001b[0m\u001b[0;34m:\u001b[0m\u001b[0;34m\u001b[0m\u001b[0m\n\u001b[1;32m   1318\u001b[0m       \u001b[0;32mreturn\u001b[0m \u001b[0mself\u001b[0m\u001b[0;34m.\u001b[0m\u001b[0m_do_call\u001b[0m\u001b[0;34m(\u001b[0m\u001b[0m_prun_fn\u001b[0m\u001b[0;34m,\u001b[0m \u001b[0mhandle\u001b[0m\u001b[0;34m,\u001b[0m \u001b[0mfeeds\u001b[0m\u001b[0;34m,\u001b[0m \u001b[0mfetches\u001b[0m\u001b[0;34m)\u001b[0m\u001b[0;34m\u001b[0m\u001b[0m\n",
      "\u001b[0;32m~/anaconda3/lib/python3.6/site-packages/tensorflow/python/client/session.py\u001b[0m in \u001b[0;36m_do_call\u001b[0;34m(self, fn, *args)\u001b[0m\n\u001b[1;32m   1320\u001b[0m   \u001b[0;32mdef\u001b[0m \u001b[0m_do_call\u001b[0m\u001b[0;34m(\u001b[0m\u001b[0mself\u001b[0m\u001b[0;34m,\u001b[0m \u001b[0mfn\u001b[0m\u001b[0;34m,\u001b[0m \u001b[0;34m*\u001b[0m\u001b[0margs\u001b[0m\u001b[0;34m)\u001b[0m\u001b[0;34m:\u001b[0m\u001b[0;34m\u001b[0m\u001b[0m\n\u001b[1;32m   1321\u001b[0m     \u001b[0;32mtry\u001b[0m\u001b[0;34m:\u001b[0m\u001b[0;34m\u001b[0m\u001b[0m\n\u001b[0;32m-> 1322\u001b[0;31m       \u001b[0;32mreturn\u001b[0m \u001b[0mfn\u001b[0m\u001b[0;34m(\u001b[0m\u001b[0;34m*\u001b[0m\u001b[0margs\u001b[0m\u001b[0;34m)\u001b[0m\u001b[0;34m\u001b[0m\u001b[0m\n\u001b[0m\u001b[1;32m   1323\u001b[0m     \u001b[0;32mexcept\u001b[0m \u001b[0merrors\u001b[0m\u001b[0;34m.\u001b[0m\u001b[0mOpError\u001b[0m \u001b[0;32mas\u001b[0m \u001b[0me\u001b[0m\u001b[0;34m:\u001b[0m\u001b[0;34m\u001b[0m\u001b[0m\n\u001b[1;32m   1324\u001b[0m       \u001b[0mmessage\u001b[0m \u001b[0;34m=\u001b[0m \u001b[0mcompat\u001b[0m\u001b[0;34m.\u001b[0m\u001b[0mas_text\u001b[0m\u001b[0;34m(\u001b[0m\u001b[0me\u001b[0m\u001b[0;34m.\u001b[0m\u001b[0mmessage\u001b[0m\u001b[0;34m)\u001b[0m\u001b[0;34m\u001b[0m\u001b[0m\n",
      "\u001b[0;32m~/anaconda3/lib/python3.6/site-packages/tensorflow/python/client/session.py\u001b[0m in \u001b[0;36m_run_fn\u001b[0;34m(feed_dict, fetch_list, target_list, options, run_metadata)\u001b[0m\n\u001b[1;32m   1303\u001b[0m     \u001b[0;32mdef\u001b[0m \u001b[0m_run_fn\u001b[0m\u001b[0;34m(\u001b[0m\u001b[0mfeed_dict\u001b[0m\u001b[0;34m,\u001b[0m \u001b[0mfetch_list\u001b[0m\u001b[0;34m,\u001b[0m \u001b[0mtarget_list\u001b[0m\u001b[0;34m,\u001b[0m \u001b[0moptions\u001b[0m\u001b[0;34m,\u001b[0m \u001b[0mrun_metadata\u001b[0m\u001b[0;34m)\u001b[0m\u001b[0;34m:\u001b[0m\u001b[0;34m\u001b[0m\u001b[0m\n\u001b[1;32m   1304\u001b[0m       \u001b[0;31m# Ensure any changes to the graph are reflected in the runtime.\u001b[0m\u001b[0;34m\u001b[0m\u001b[0;34m\u001b[0m\u001b[0m\n\u001b[0;32m-> 1305\u001b[0;31m       \u001b[0mself\u001b[0m\u001b[0;34m.\u001b[0m\u001b[0m_extend_graph\u001b[0m\u001b[0;34m(\u001b[0m\u001b[0;34m)\u001b[0m\u001b[0;34m\u001b[0m\u001b[0m\n\u001b[0m\u001b[1;32m   1306\u001b[0m       return self._call_tf_sessionrun(\n\u001b[1;32m   1307\u001b[0m           options, feed_dict, fetch_list, target_list, run_metadata)\n",
      "\u001b[0;32m~/anaconda3/lib/python3.6/site-packages/tensorflow/python/client/session.py\u001b[0m in \u001b[0;36m_extend_graph\u001b[0;34m(self)\u001b[0m\n\u001b[1;32m   1338\u001b[0m     \u001b[0;32mif\u001b[0m \u001b[0mself\u001b[0m\u001b[0;34m.\u001b[0m\u001b[0m_created_with_new_api\u001b[0m\u001b[0;34m:\u001b[0m\u001b[0;34m\u001b[0m\u001b[0m\n\u001b[1;32m   1339\u001b[0m       \u001b[0;32mwith\u001b[0m \u001b[0mself\u001b[0m\u001b[0;34m.\u001b[0m\u001b[0m_graph\u001b[0m\u001b[0;34m.\u001b[0m\u001b[0m_lock\u001b[0m\u001b[0;34m:\u001b[0m  \u001b[0;31m# pylint: disable=protected-access\u001b[0m\u001b[0;34m\u001b[0m\u001b[0m\n\u001b[0;32m-> 1340\u001b[0;31m         \u001b[0mtf_session\u001b[0m\u001b[0;34m.\u001b[0m\u001b[0mExtendSession\u001b[0m\u001b[0;34m(\u001b[0m\u001b[0mself\u001b[0m\u001b[0;34m.\u001b[0m\u001b[0m_session\u001b[0m\u001b[0;34m)\u001b[0m\u001b[0;34m\u001b[0m\u001b[0m\n\u001b[0m\u001b[1;32m   1341\u001b[0m     \u001b[0;32melse\u001b[0m\u001b[0;34m:\u001b[0m\u001b[0;34m\u001b[0m\u001b[0m\n\u001b[1;32m   1342\u001b[0m       \u001b[0;31m# Ensure any changes to the graph are reflected in the runtime.\u001b[0m\u001b[0;34m\u001b[0m\u001b[0;34m\u001b[0m\u001b[0m\n",
      "\u001b[0;31mKeyboardInterrupt\u001b[0m: "
     ]
    }
   ],
   "source": [
    "taxa_aprendizado = [0.5, 1.0, 10]\n",
    "resultado = {}\n",
    "print(\"VARIACAO DA TAXA DE APRENDIZADO\")\n",
    "for taxa in taxa_aprendizado:\n",
    "    result = experimento(taxa_aprendizado=taxa)\n",
    "    print(\"Taxa de aprendizado: \" + str(taxa))\n",
    "    print(\"Acuracia final: \"+str(result[-1]))\n",
    "    resultado[str(taxa)] = result\n",
    "geracao_grafico(resultado)"
   ]
  },
  {
   "cell_type": "markdown",
   "metadata": {},
   "source": [
    "### Variação do número de unidades da camada oculta\n",
    "Para a análise da variação de taxa de aprendizado, crio os possíveis valores para este parâmetro, os quais foram especificados no item \"Introdução\". Temos, para todas as entradas, uma variação bem próxima e crescente, o que indica que o maior número de neurônios tem impacto positivo para a acurácia do modelo. No caso, a variação de 25, 50 e 100 nos trouxe, respectivamente, 79.5%, 83.9% e 87.1% de acurária aproximadamente, comprovando a situação explicada e convergindo."
   ]
  },
  {
   "cell_type": "code",
   "execution_count": 8,
   "metadata": {},
   "outputs": [
    {
     "name": "stdout",
     "output_type": "stream",
     "text": [
      "VARIACAO DO NUMERO DE UNIDADES NA CAMADAS OCULTAS\n",
      "Unidades de camada oculta: 25\n",
      "Acuracia final: 79.53590750694275\n",
      "Unidades de camada oculta: 50\n",
      "Acuracia final: 83.95678997039795\n",
      "Unidades de camada oculta: 100\n",
      "Acuracia final: 87.1374249458313\n"
     ]
    },
    {
     "data": {
      "image/png": "[encoded data removed]",
      "text/plain": [
       "<Figure size 432x288 with 1 Axes>"
      ]
     },
     "metadata": {},
     "output_type": "display_data"
    }
   ],
   "source": [
    "unidades_camada_oculta = [25, 50, 100]\n",
    "resultado = {}\n",
    "print(\"VARIACAO DO NUMERO DE UNIDADES NA CAMADAS OCULTAS\")\n",
    "for unidades in unidades_camada_oculta:\n",
    "    result = experimento(unidades_camada_oculta=unidades)\n",
    "    print(\"Unidades de camada oculta: \" + str(unidades))\n",
    "    print(\"Acuracia final: \"+str(result[-1]))\n",
    "    resultado[str(unidades)] = result\n",
    "geracao_grafico(resultado)"
   ]
  },
  {
   "cell_type": "markdown",
   "metadata": {},
   "source": [
    "### Variação o batch size\n",
    "Para a análise da variação do batch size, crio os possíveis valores para este parâmetro, os quais foram especificados no item \"Introdução\" - o Gradiente Descendente (batch_size=5000), Gradiente Descendente Estocástico(batch_size=1) e o Mini-Batch (considerado 10 e 50). Foi visível ver que para um batch-size de 1, ou seja, Gradiente Descendente Estocástico, o modelo teve uma acurácia muito baixa, não sendo capaz de aprender bem. No caso dos mini-batches de 10 e 50, tivemos uma melhor performance, porém ainda não tão boa. O mesmo para o batch size de 5000."
   ]
  },
  {
   "cell_type": "code",
   "execution_count": null,
   "metadata": {},
   "outputs": [
    {
     "name": "stdout",
     "output_type": "stream",
     "text": [
      "VARIACAO DO BATCH SIZE\n",
      "Batch size: 1\n",
      "Acuracia final: 10.022004693746567\n"
     ]
    }
   ],
   "source": [
    "batch_sizes = [1, 10, 50, 5000]\n",
    "resultado = {}\n",
    "print(\"VARIACAO DO BATCH SIZE\")\n",
    "for batch_size in batch_sizes:\n",
    "    result = experimento(batch_size=batch_size)\n",
    "    print(\"Batch size: \" + str(batch_size))\n",
    "    print(\"Acuracia final: \"+str(result[-1]))\n",
    "    resultado[str(batch_size)] = result\n",
    "geracao_grafico(resultado)"
   ]
  }
 ],
 "metadata": {
  "kernelspec": {
   "display_name": "Python 3",
   "language": "python",
   "name": "python3"
  },
  "language_info": {
   "codemirror_mode": {
    "name": "ipython",
    "version": 3
   },
   "file_extension": ".py",
   "mimetype": "text/x-python",
   "name": "python",
   "nbconvert_exporter": "python",
   "pygments_lexer": "ipython3",
   "version": "3.6.5"
  }
 },
 "nbformat": 4,
 "nbformat_minor": 2
}
